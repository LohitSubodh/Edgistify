{
  "nbformat": 4,
  "nbformat_minor": 0,
  "metadata": {
    "colab": {
      "name": "LOHIT SUBODH - lab_2.ipynb",
      "provenance": [],
      "collapsed_sections": [],
      "machine_shape": "hm",
      "include_colab_link": true
    },
    "kernelspec": {
      "name": "python3",
      "display_name": "Python 3"
    },
    "accelerator": "TPU"
  },
  "cells": [
    {
      "cell_type": "markdown",
      "metadata": {
        "id": "view-in-github",
        "colab_type": "text"
      },
      "source": [
        "<a href=\"https://colab.research.google.com/github/LohitSubodh/Machine-Learning/blob/master/LOHIT_SUBODH_lab_2.ipynb\" target=\"_parent\"><img src=\"https://colab.research.google.com/assets/colab-badge.svg\" alt=\"Open In Colab\"/></a>"
      ]
    },
    {
      "cell_type": "markdown",
      "metadata": {
        "id": "Ox5bZYB3DNOC",
        "colab_type": "text"
      },
      "source": [
        "# **Lab 2**\n",
        "### Weightage 3%\n",
        "## Linear Regression\n",
        "---\n",
        "Dataset used: \n",
        "  ACS Flammability Limit Computation\n",
        "\n",
        "---\n",
        "\n",
        "\n",
        "\n",
        "Maximum Points in the Lab: 65\n",
        "\n",
        "---\n",
        "Important points to remember :\n",
        "\n",
        "\n",
        "1.  Observations for the experiments should be explained.\n",
        "2. All the code should be submitted in the form of a single Jupyter notebook itself.\n",
        "3. Points for each sub-section are mentioned in the appropriate question.\n",
        "4. Make sure to begin early as a few experiments may consume more time to run.\n",
        "5. You can use Google colab to run in jupyter notebook (https://colab.research.google.com/) How to load data in Google Colab ?(https://towardsdatascience.com/3-ways-to-load-csv-files-into-colab-7c14fcbdcb92)\n",
        "6. The lab must be submitted on Google classroom. The code as well as the accompanying observations should be made part of the python notebook.\n",
        "7. **Code Readability** is very important. Hence use self explanatory variable names and add comments to describe your approach wherever necessary.\n",
        "8. You are expected to submit your **detailed inferences** and not just an error free code.\n",
        "9. The lab is due on **Feb 21st 11.59pm**.\n",
        "10. The lab should be completed **individually**. Students are expected to follow the **honor code** of the class.\n",
        "\n",
        "\n"
      ]
    },
    {
      "cell_type": "code",
      "metadata": {
        "id": "rvZ4obBVCkdx",
        "colab_type": "code",
        "colab": {}
      },
      "source": [
        "# Import necessary libraries\n",
        "\n",
        "import sklearn\n",
        "from sklearn.linear_model import LinearRegression\n",
        "from sklearn.linear_model import Ridge\n",
        "from sklearn.linear_model import Lasso\n",
        "import matplotlib.pyplot as plt\n",
        "import numpy as np\n",
        "import pandas as pd"
      ],
      "execution_count": 0,
      "outputs": []
    },
    {
      "cell_type": "markdown",
      "metadata": {
        "id": "0-AitLgoFqGc",
        "colab_type": "text"
      },
      "source": [
        "Describe the arguments and output of the linear regression function call in sklearn package.\n",
        "\n",
        "\n",
        "\n",
        "---\n",
        "**5 Points** \n",
        "\n",
        "\n",
        "---\n",
        "\n",
        "\n"
      ]
    },
    {
      "cell_type": "markdown",
      "metadata": {
        "id": "IfBRe8LtyMoI",
        "colab_type": "text"
      },
      "source": [
        "***Parameters***\n",
        "\n",
        "**fit_intercept :bool, optional, default True**: Used to calculate intercept or not.If it is set to false, no intercept will be used in calculations.\n",
        "\n",
        "**normalize :bool, optional, default False**: The regressors X will be normalized before regression by subtracting the mean and dividing by the l2-norm.\n",
        "\n",
        "**copy_X :bool, optional, default True**: If True, X will be copied; else, it may be overwritten.\n",
        "\n",
        "**n_jobs :int or None, optional (default=None)**: The number of jobs to use for the computation.\n"
      ]
    },
    {
      "cell_type": "markdown",
      "metadata": {
        "id": "u597s3Exg6dH",
        "colab_type": "text"
      },
      "source": [
        "***Attributes***\n",
        "\n",
        "**coef_:array of shape (n_features, ) or (n_targets, n_features)**\n",
        "Estimated coefficients for the linear regression problem.\n",
        "\n",
        "**rank_int**\n",
        "Rank of matrix X. Only available when X is dense.\n",
        "\n",
        "**singular_array of shape (min(X, y),)**\n",
        "Singular values of X. Only available when X is dense.\n",
        "\n",
        "**intercept_float or array of shape of (n_targets,)**\n",
        "Independent term in the linear model. Set to 0.0 if fit_intercept = False."
      ]
    },
    {
      "cell_type": "markdown",
      "metadata": {
        "id": "XvvyDM3siTJT",
        "colab_type": "text"
      },
      "source": [
        "***Methods***\n",
        "\n",
        "\n",
        "**fit(self, X, y[, sample_weight])** : \t\n",
        "Fit linear model.\n",
        "\n",
        "**get_params(self[, deep])** :\n",
        "Get parameters for this estimator.\n",
        "\n",
        "**predict(self, X) ** :\n",
        "Predict using the linear model.\n",
        "\n",
        "**score(self, X, y[, sample_weight])** :\n",
        "Return the coefficient of determination R^2 of the prediction.\n",
        "\n",
        "**set_params(self, \\*\\*params)** :\n",
        "Set the parameters of this estimator."
      ]
    },
    {
      "cell_type": "markdown",
      "metadata": {
        "id": "rrzJ2WFeGFZ1",
        "colab_type": "text"
      },
      "source": [
        "We will be using the ACS flammability limit computation dataset for linear regression task. The dataset contains 105 molecular properties of few chemical compounds from which Flammability Limit is to be computed. The following block contains code to read the excel file from the given URL and preprocess the data. **Please don't make any changes to the block below.**"
      ]
    },
    {
      "cell_type": "code",
      "metadata": {
        "id": "lxOnNEVUG0Yk",
        "colab_type": "code",
        "colab": {}
      },
      "source": [
        "\n",
        "# Load the dataset onto a data frame. !! Please dont make any changes !!\n",
        "url = \"https://ndownloader.figshare.com/files/18729491\"\n",
        "data_frame = pd.read_excel(url,encoding='latin-1',skiprows=5)\n",
        "\n",
        "# Necessary attributes converted to numpy arrays\n",
        "target = data_frame.iloc[:,4].to_numpy()\n",
        "input_features = data_frame.iloc[:,6:].to_numpy()\n"
      ],
      "execution_count": 0,
      "outputs": []
    },
    {
      "cell_type": "markdown",
      "metadata": {
        "id": "XSmvKwKtS0eb",
        "colab_type": "text"
      },
      "source": [
        "We have input attributes and output vector ready. Now the first step is to split the entire dataset into training and test subsets. sklearn package provides you a flexible way of doing this. All you need to do is just specify input attributes array, target array and fraction of the test set. Once the split is done, we are ready to train the model and evaluate it. \n",
        "\n",
        "- We would like you to experiment with different test set fractions and comment on how well the model is able to estimate the target value for new test instances? \n",
        "\n",
        "- Also there is another flexibility to tune the intercept term on or off. We would like you to experiment on those possibilities as well.\n",
        "\n",
        "**Note:** Don't forget to explicitly normalize the attributes.\n",
        "\n",
        "---\n",
        "\n",
        "\n",
        "**10 Points** \n",
        "\n",
        "---\n",
        "\n"
      ]
    },
    {
      "cell_type": "code",
      "metadata": {
        "id": "hzyj0Ia3V166",
        "colab_type": "code",
        "outputId": "bda7ae83-ba62-4490-d399-bef5d9d39835",
        "colab": {
          "base_uri": "https://localhost:8080/",
          "height": 286
        }
      },
      "source": [
        "from sklearn.linear_model import LinearRegression\n",
        "from sklearn.metrics import mean_squared_error\n",
        "from sklearn.model_selection import train_test_split\n",
        "test_size_fractions = [0.2,0.3,0.4,0.5]\n",
        "\n",
        "mse_list = []\n",
        "\n",
        "# Step 1: Create a linear regressor object \n",
        "# Insert your code below\n",
        "regr_obj= LinearRegression(fit_intercept= True,normalize = True)\n",
        "\n",
        "# Step 2: Create a linear regressor object forcing bias or intercept as 0\n",
        "# Insert your code below\n",
        "\n",
        "\n",
        "# Experiment with 8 different model setup\n",
        "\n",
        "for fraction in test_size_fractions:\n",
        "    \n",
        "    \n",
        "    # Step 3: Split into train and test set based on the fraction\n",
        "    # Insert your code below\n",
        "    x_train,x_test,y_train,y_test=train_test_split(input_features,target,test_size = fraction,random_state=0)\n",
        "\n",
        "    # Step 4(a): Train the Intercept Linear Regression model using held out training set\n",
        "    # Insert your code below\n",
        "    model= LinearRegression(fit_intercept= True,normalize=True)\n",
        "    model.fit(x_train,y_train)\n",
        "\n",
        "    # Step 4(b): Predict the target values using the trained model for test set instances\n",
        "    # Insert your code below\n",
        "    predictions=model.predict(x_test)\n",
        "\n",
        "    # Step 4(c): Print the mean squared error of the model on test data set. Store this value to mse list to find the best model setting.\n",
        "    # Insert your code below\n",
        "    mse_list.append(mean_squared_error(y_test,predictions))\n",
        "    print(\"mean square error for Interceptmodel\")\n",
        "    print(mean_squared_error(y_test,predictions))\n",
        "\n",
        "    # Step 5(a): Train the Non Intercept Linear Regression model using held out training set\n",
        "    # Insert your code below\n",
        "    model_nonIntercept= LinearRegression(fit_intercept=False)\n",
        "    model_nonIntercept.fit(x_train,y_train)\n",
        "\n",
        "    # Step 5(b): Predict the target values using the trained non intercept for test set instances\n",
        "    # Insert your code below\n",
        "    predictions2= model_nonIntercept.predict(x_test)\n",
        "\n",
        "    # Step 5(c): Print the mean squared error of the non intercept model on test data set. Store this value to mse list to find the best model setting.\n",
        "    # Insert your code below\n",
        "    mse_list.append(mean_squared_error(y_test,predictions2))\n",
        "    print(\"mean square error for nonInterceptmodel\")\n",
        "    print(mean_squared_error(y_test,predictions2))\n"
      ],
      "execution_count": 0,
      "outputs": [
        {
          "output_type": "stream",
          "text": [
            "mean square error for Interceptmodel\n",
            "1.9475609495182266e+24\n",
            "mean square error for nonInterceptmodel\n",
            "0.17952423723843725\n",
            "mean square error for Interceptmodel\n",
            "3.2693571168204933e+25\n",
            "mean square error for nonInterceptmodel\n",
            "0.19273208905643807\n",
            "mean square error for Interceptmodel\n",
            "3.058779164859554e+20\n",
            "mean square error for nonInterceptmodel\n",
            "0.2198650559699888\n",
            "mean square error for Interceptmodel\n",
            "5.5644165808085764e+23\n",
            "mean square error for nonInterceptmodel\n",
            "0.2732701679283426\n"
          ],
          "name": "stdout"
        }
      ]
    },
    {
      "cell_type": "markdown",
      "metadata": {
        "id": "l8aRGM_afDmY",
        "colab_type": "text"
      },
      "source": [
        "In the previous block you have experimented with different settings of the Linear Regression model. You have test set mean squared error stored. Figure out which setting gave the least mean squared error. \n",
        "\n",
        "---\n",
        "\n",
        "**5 Points**\n",
        "\n",
        "---\n",
        "\n",
        "\n"
      ]
    },
    {
      "cell_type": "code",
      "metadata": {
        "id": "cyFU-GFUhZkB",
        "colab_type": "code",
        "outputId": "a265954e-6c79-4fc3-cab9-819f512c7c42",
        "colab": {
          "base_uri": "https://localhost:8080/",
          "height": 34
        }
      },
      "source": [
        "# Insert your code to identify the best fraction and intercept requirement. Also, print the best setting chosen.\n",
        "from sklearn.model_selection import cross_val_score\n",
        "min_error= min(mse_list)\n",
        "index= mse_list.index(min(mse_list))\n",
        "print('best fraction to split is', test_size_fractions[int(index/2)])\n",
        "\n",
        "\n",
        "\n",
        "\n",
        "\n"
      ],
      "execution_count": 0,
      "outputs": [
        {
          "output_type": "stream",
          "text": [
            "best fraction to split is 0.2\n"
          ],
          "name": "stdout"
        }
      ]
    },
    {
      "cell_type": "markdown",
      "metadata": {
        "id": "mQVehqr9hl6x",
        "colab_type": "text"
      },
      "source": [
        "Now that you have figured out the best model setting, use that setting to train the model to predict test instances.\n",
        "\n",
        "\n",
        "---\n",
        "\n",
        "**3 Points**\n",
        "\n",
        "\n",
        "---\n",
        "\n"
      ]
    },
    {
      "cell_type": "code",
      "metadata": {
        "id": "JJEf7Rg8h7oS",
        "colab_type": "code",
        "outputId": "9a11989c-d67d-4f7b-a8a3-3e9b8567903f",
        "colab": {
          "base_uri": "https://localhost:8080/",
          "height": 84
        }
      },
      "source": [
        "# Step 1: Split the entire dataset into train and test set based on the best fraction\n",
        "# Insert your code below\n",
        "x_train,x_test,y_train,y_test=train_test_split(input_features,target,test_size=0.2,random_state=0)\n",
        "\n",
        "# Step 2: Create a linear regressor object with intercept turned on or off as per best model setting\n",
        "# Insert your code below\n",
        "model= LinearRegression(fit_intercept=False,normalize= False)\n",
        "\n",
        "# Step 3(a): Train the Linear Regression model using training set\n",
        "# Insert your code below\n",
        "model.fit(x_train,y_train)\n",
        "\n",
        "# Step 3(b): Predict the target values using the trained model for test set instances\n",
        "# Insert your code below\n",
        "y_pred=model.predict(x_test)\n",
        "\n",
        "# Step 3(c): Print the mean squared error of the model on test set. \n",
        "# Insert your code below\n",
        "print('Intercept: \\n', model.intercept_)\n",
        "print('mean square error \\n', mean_squared_error(y_test,y_pred))\n"
      ],
      "execution_count": 0,
      "outputs": [
        {
          "output_type": "stream",
          "text": [
            "Intercept: \n",
            " 0.0\n",
            "mean square error \n",
            " 0.17952423723843725\n"
          ],
          "name": "stdout"
        }
      ]
    },
    {
      "cell_type": "markdown",
      "metadata": {
        "id": "ZHT58sjij0f4",
        "colab_type": "text"
      },
      "source": [
        "Now check the goodness of the model with repsect to prediction on test instances. The aim is to predict the target values for test instances using the trained model. These values would be plotted against the true values of the test instances. A good model would yield a plot that looks *close to a line of slope 45 degree*. **Comment** on the goodness of the learned model using this test.\n",
        "\n",
        "---\n",
        "\n",
        "**5 points** \n",
        "\n",
        "---\n",
        "\n",
        "\n",
        "\n",
        "\n",
        "\n"
      ]
    },
    {
      "cell_type": "markdown",
      "metadata": {
        "id": "UDWEuE65kDgM",
        "colab_type": "text"
      },
      "source": [
        "***Comments***\n",
        "\n",
        "We observe that the points are plotted near the y=x line.Also there are some outliers in the graph."
      ]
    },
    {
      "cell_type": "code",
      "metadata": {
        "id": "CuDziN7WlJHy",
        "colab_type": "code",
        "outputId": "56bfcbd9-9eaf-481d-f757-e5754af69241",
        "colab": {
          "base_uri": "https://localhost:8080/",
          "height": 295
        }
      },
      "source": [
        "# Insert your code to plot true vs predicted test values\n",
        "import matplotlib.pyplot as plt\n",
        "\n",
        "plt.scatter(y_test,y_pred)\n",
        "plt.plot([0,1,2],[0,1,2])\n",
        "plt.xlabel('true values')\n",
        "plt.ylabel('predicted values')\n",
        "plt.title('Graph')\n",
        "plt.show()\n"
      ],
      "execution_count": 0,
      "outputs": [
        {
          "output_type": "display_data",
          "data": {
            "image/png": "[encoded data removed]",
            "text/plain": [
              "<Figure size 432x288 with 1 Axes>"
            ]
          },
          "metadata": {
            "tags": []
          }
        }
      ]
    },
    {
      "cell_type": "markdown",
      "metadata": {
        "id": "-6jQmj8amZTr",
        "colab_type": "text"
      },
      "source": [
        "You have implemented simple linear regression. You may apply regularization techniques that constrain the coefficients. We will be seeing 2 types of regularized regression techniques:\n",
        "\n",
        "\n",
        "1.   Ridge Regression\n",
        "2.   Lasso Regression\n",
        "\n"
      ]
    },
    {
      "cell_type": "markdown",
      "metadata": {
        "colab_type": "text",
        "id": "sxHV6iP4Mlwg"
      },
      "source": [
        "# Ridge Regression\n",
        "\n",
        "---\n",
        "\n",
        "Describe the arguments and output of the Ridge regression function call in sklearn package.\n",
        "\n",
        "\n",
        "\n",
        "---\n",
        "**5 Points** \n",
        "\n",
        "\n",
        "---\n",
        "\n",
        "\n"
      ]
    },
    {
      "cell_type": "markdown",
      "metadata": {
        "id": "Xq4ICdb-0IY0",
        "colab_type": "text"
      },
      "source": [
        "**alpha**: It is the Regularization strength; must be a positive float.egularization improves the conditioning of the problem and reduces the variance of the estimates\n",
        "\n",
        "**fit_intercept** : Whether to calculate the intercept for this model. If set to false, no intercept will be used in calculations\n",
        "\n",
        "**normalize**:This parameter is ignored when fit_intercept is set to False. If True, the regressors X will be normalized before regression by subtracting the mean and dividing by the l2-norm\n",
        "\n",
        "**copy_X** : If True, X will be copied; else, it may be overwritten.\n",
        "\n",
        "**random_state**: The seed of the pseudo random number generator to use when shuffling the data. \n",
        "\n"
      ]
    },
    {
      "cell_type": "markdown",
      "metadata": {
        "id": "9Wyr-kOLm-AT",
        "colab_type": "text"
      },
      "source": [
        "\n",
        "\n",
        "\n",
        "In ridge regression, L-2 regularization is applied to the coefficients. You have a hyperparameter alpha which you can vary to control the extent of constraining the coefficients. We would like you to experiment with different values of alpha and comment on the model performance. You may use the best setting of Linear Regression to Ridge Regression also. **Comment** on the effect of the alpha value on the mean squared error.\n",
        "\n",
        "\n",
        "---\n",
        "\n",
        "**9 Points**\n",
        "\n",
        "\n",
        "---\n",
        "\n"
      ]
    },
    {
      "cell_type": "markdown",
      "metadata": {
        "id": "pLtLht0Sot4L",
        "colab_type": "text"
      },
      "source": [
        "***Comments***\n",
        "\n",
        "By increasing the value of alpha we observe that mean square error decreases at first and then increases. Thereotically mse should increase by increasing alpha value as we are penalizing more on attributes which leads to simpler model and thus increasing the bias and reducing the variance."
      ]
    },
    {
      "cell_type": "code",
      "metadata": {
        "id": "-2MHw9z8oKVE",
        "colab_type": "code",
        "outputId": "e2676bbb-a2bc-483a-acb6-3bf8aa2fb5e8",
        "colab": {
          "base_uri": "https://localhost:8080/",
          "height": 480
        }
      },
      "source": [
        "from sklearn.linear_model import Ridge\n",
        "import matplotlib.pyplot as plt\n",
        "from sklearn.metrics import mean_squared_error\n",
        "from sklearn.model_selection import train_test_split\n",
        "alpha_values = [0.01,0.05,0.1,0.25,0.5,0.75,1,1.25,1.5,1.75,2]\n",
        "error_list = []\n",
        "\n",
        "# Step 1: Split into train and test set based on the best fraction\n",
        "# Insert your code below\n",
        "x_train,x_test,y_train,y_test=train_test_split(input_features,target,test_size = 0.2,random_state=0)\n",
        "\n",
        "for alpha_ in alpha_values:\n",
        "\n",
        "\n",
        "    # Step 2: Create a Ridge regressor object with desired alpha value\n",
        "    # Insert your code below\n",
        "    rid_obj=Ridge(fit_intercept=False)\n",
        "    rid_obj.set_params(alpha=alpha_)\n",
        "\n",
        "    # Step 3(a): Train the Ridge Regression model using training set\n",
        "    # Insert your code below\n",
        "    rid_obj.fit(x_train,y_train)\n",
        "\n",
        "    # Step 3(b): Predict the target values using the trained Ridge model for test set instances\n",
        "    # Insert your code below\n",
        "    pred=rid_obj.predict(x_test)\n",
        "\n",
        "\n",
        "    # Step 3(c): Print the mean squared error of the model on test set. Add it to an error list to plot later.\n",
        "    # Insert your code below\n",
        "    print(mean_squared_error(y_test,pred))\n",
        "    error_list.append(mean_squared_error(y_test,pred))\n",
        "\n",
        "\n",
        "# Step 4: Plot a graph of different alpha values of ridge regression versus mean squared error\n",
        "plt.plot(alpha_values,error_list)\n",
        "plt.xlabel('alpha values')\n",
        "plt.ylabel('mean squared error')\n",
        "plt.title('Graph')\n",
        "plt.show()\n",
        "\n"
      ],
      "execution_count": 0,
      "outputs": [
        {
          "output_type": "stream",
          "text": [
            "0.17461685905799754\n",
            "0.16398330565433183\n",
            "0.15892044042433054\n",
            "0.15641482317940794\n",
            "0.1593772996236714\n",
            "0.1632179999674756\n",
            "0.16692102691669675\n",
            "0.1703879524045154\n",
            "0.17363662005344338\n",
            "0.17669900580642034\n",
            "0.1796038618398409\n"
          ],
          "name": "stdout"
        },
        {
          "output_type": "display_data",
          "data": {
            "image/png": "[encoded data removed]",
            "text/plain": [
              "<Figure size 432x288 with 1 Axes>"
            ]
          },
          "metadata": {
            "tags": []
          }
        }
      ]
    },
    {
      "cell_type": "markdown",
      "metadata": {
        "id": "qNlHlQBPNXLM",
        "colab_type": "text"
      },
      "source": [
        "# Lasso Regression\n",
        "\n",
        "---\n",
        "\n",
        "Describe the arguments and output of the Ridge regression function call in sklearn package.\n",
        "\n",
        "\n",
        "\n",
        "---\n",
        "**5 Points** \n",
        "\n",
        "\n",
        "---\n",
        "\n",
        "\n"
      ]
    },
    {
      "cell_type": "markdown",
      "metadata": {
        "id": "2Dfa6w1s2y7-",
        "colab_type": "text"
      },
      "source": [
        "***Parameters***\n",
        "\n",
        "**alpha :float,optional **: Constant that multiplies the L1 term. Defaults to 1.0. alpha = 0 is equivalent to an ordinary least square, solved by the LinearRegression object.\n",
        "\n",
        "**fit_intercept: boolean, optional, default True**\n",
        "Whether to calculate the intercept for this model.\n",
        "\n",
        "\n",
        "**max_iter**:The maximum number of iterations\n",
        "\n",
        "**positive**: When set to True, forces the coefficients to be positive.\n",
        "\n",
        "**precompute**: Whether to use a precomputed Gram matrix to speed up calculations.\n",
        "\n"
      ]
    },
    {
      "cell_type": "markdown",
      "metadata": {
        "id": "ozRl4kRpluj9",
        "colab_type": "text"
      },
      "source": [
        "***Attributes***\n",
        "\n",
        "**coef_:** Parameter vector (w in the cost function formula)"
      ]
    },
    {
      "cell_type": "markdown",
      "metadata": {
        "id": "GLj4DffxpM4K",
        "colab_type": "text"
      },
      "source": [
        "In Lasso regression, L-1 regularization is applied to the coefficients. You have a hyperparameter alpha which you can vary to control the extent of constraining the coefficients. We would like you to experiment with different values of alpha and **comment** on the model performance. You may use the best setting of Linear Regression to Lasso Regression also.\n",
        "\n",
        "---\n",
        "\n",
        "**9 Points**\n",
        "\n",
        "---\n",
        "\n"
      ]
    },
    {
      "cell_type": "markdown",
      "metadata": {
        "id": "pKxLe0iIpwKV",
        "colab_type": "text"
      },
      "source": [
        "***Comments***\n",
        "\n",
        "The graphs shows that increasing the value of alpha increases the mean square error.Also, the error obtained in Lasso is more than compared to error in Ridge regression. "
      ]
    },
    {
      "cell_type": "code",
      "metadata": {
        "id": "FyEtXEX0jZRw",
        "colab_type": "code",
        "outputId": "e919fad7-0072-47f0-9875-bd24e5bfddd0",
        "colab": {
          "base_uri": "https://localhost:8080/",
          "height": 480
        }
      },
      "source": [
        "from sklearn import linear_model\n",
        "from sklearn.linear_model import Lasso, LassoCV\n",
        "import matplotlib.pyplot as plt\n",
        "\n",
        "alpha_values = [0.01,0.05,0.1,0.25,0.5,0.75,1,1.25,1.5,1.75,2]\n",
        "error_list = []\n",
        "\n",
        "# Step 1: Split into train and test set based on the best fraction\n",
        "# Insert your code below\n",
        "x_train,x_test,y_train,y_test=train_test_split(input_features,target,test_size = 0.2,random_state=0)\n",
        "for alpha_ in alpha_values:\n",
        "\n",
        "    # Step 2: Create a LASSO regressor object with desired alpha value\n",
        "    # Insert your code below\n",
        "    lasso= Lasso(max_iter=10000,fit_intercept=False)\n",
        "    lasso.set_params(alpha=alpha_)\n",
        "\n",
        "\n",
        "    # Step 3(a): Train the LASSO Regression model using training set\n",
        "    # Insert your code below\n",
        "    lasso.fit(x_train,y_train)\n",
        "\n",
        "    # Step 3(b): Predict the target values using the trained LASSO model for test set instances\n",
        "    # Insert your code below\n",
        "    pred=lasso.predict(x_test)\n",
        "\n",
        "    # Step 3(c): Print the mean squared error of the model on test set. Add it to an error list to plot later.\n",
        "    # Insert your code below\n",
        "    print(mean_squared_error(y_test,pred))\n",
        "    error_list.append(mean_squared_error(y_test,pred))\n",
        "\n",
        "\n",
        "# Step 4: Plot a graph of different alpha values of lasso regression versus mean squared error\n",
        "plt.plot(alpha_values,error_list)\n",
        "plt.xlabel('alpha values')\n",
        "plt.ylabel('mean squared error')\n",
        "plt.title('Graph')\n",
        "plt.show()\n",
        "\n"
      ],
      "execution_count": 0,
      "outputs": [
        {
          "output_type": "stream",
          "text": [
            "0.36516872495263747\n",
            "0.5458372449552266\n",
            "0.5778196179909838\n",
            "0.6462641766709415\n",
            "0.7554060728630274\n",
            "0.8867094564063571\n",
            "0.9616922416399727\n",
            "0.9798824933216704\n",
            "0.9997080663385793\n",
            "1.0211689781706657\n",
            "1.0442652208170433\n"
          ],
          "name": "stdout"
        },
        {
          "output_type": "display_data",
          "data": {
            "image/png": "[encoded data removed]",
            "text/plain": [
              "<Figure size 432x288 with 1 Axes>"
            ]
          },
          "metadata": {
            "tags": []
          }
        }
      ]
    },
    {
      "cell_type": "markdown",
      "metadata": {
        "id": "GaY8yDgjFvwb",
        "colab_type": "text"
      },
      "source": [
        "Now since you have tried LASSO with different alpha values, you may try different number of maximum iterations associated with LASSO and **comment** on its effect on the mean squared error.\n",
        "\n",
        "\n",
        "---\n",
        "\n",
        "**9 Points**\n",
        "\n",
        "---\n",
        "\n"
      ]
    },
    {
      "cell_type": "markdown",
      "metadata": {
        "id": "TaReT6bEqnpR",
        "colab_type": "text"
      },
      "source": [
        "***Comments***\n",
        "\n",
        "We observed that after certain number of maximum iterations the mean squared error becomes constant."
      ]
    },
    {
      "cell_type": "code",
      "metadata": {
        "id": "51uy4oEqFuBK",
        "colab_type": "code",
        "outputId": "da765e06-6e1a-4598-9129-febc0afc02d8",
        "colab": {
          "base_uri": "https://localhost:8080/",
          "height": 434
        }
      },
      "source": [
        "from sklearn.linear_model import Lasso, LassoCV\n",
        "from sklearn.model_selection import train_test_split\n",
        "import matplotlib.pyplot as plt\n",
        "from sklearn.metrics import mean_squared_error\n",
        "# Step 1: Split into train and test set based on the best fraction\n",
        "# Insert your code below\n",
        "x_train,x_test,y_train,y_test=train_test_split(input_features,target,test_size = 0.2,random_state=0)\n",
        "error_list= []\n",
        "iteration_list= []\n",
        "for m_iterations in range(1,200,2):\n",
        "\n",
        "    \n",
        "\n",
        "    # Step 2: Create a LASSO regressor object with desired number of iterations\n",
        "    # Insert your code below\n",
        "    lasso2=Lasso(max_iter=m_iterations,fit_intercept=False)\n",
        "    iteration_list.append(m_iterations)\n",
        "\n",
        "    # Step 3(a): Train the LASSO Regression model using training set\n",
        "    # Insert your code below\n",
        "    lasso2.fit(x_train,y_train)\n",
        "\n",
        "    # Step 3(b): Predict the target values using the trained LASSO model for test set instances\n",
        "    # Insert your code below\n",
        "    y_pred=lasso2.predict(x_test)\n",
        "\n",
        "    # Step 3(c): Print the mean squared error of the model on test set. Add it to an error list to plot later.\n",
        "    # Insert your code below\n",
        "    l=(mean_squared_error(y_test,y_pred))\n",
        "    error_list.append(mean_squared_error(y_test,y_pred))\n",
        "\n",
        "# Step 4: Plot a graph of different alpha values of lasso regression versus mean squared error\n",
        "print(error_list)\n",
        "plt.plot(iteration_list,error_list)\n",
        "plt.xlabel('m_iterations')\n",
        "plt.ylabel('mean squared error')\n",
        "plt.title('Graph')\n",
        "plt.show()\n",
        "\n"
      ],
      "execution_count": 0,
      "outputs": [
        {
          "output_type": "stream",
          "text": [
            "/usr/local/lib/python3.6/dist-packages/sklearn/linear_model/_coordinate_descent.py:476: ConvergenceWarning: Objective did not converge. You might want to increase the number of iterations. Duality gap: 79.22245726898029, tolerance: 0.1090122131610264\n",
            "  positive)\n",
            "/usr/local/lib/python3.6/dist-packages/sklearn/linear_model/_coordinate_descent.py:476: ConvergenceWarning: Objective did not converge. You might want to increase the number of iterations. Duality gap: 2.8535327677055875, tolerance: 0.1090122131610264\n",
            "  positive)\n",
            "/usr/local/lib/python3.6/dist-packages/sklearn/linear_model/_coordinate_descent.py:476: ConvergenceWarning: Objective did not converge. You might want to increase the number of iterations. Duality gap: 0.21031091494353404, tolerance: 0.1090122131610264\n",
            "  positive)\n"
          ],
          "name": "stderr"
        },
        {
          "output_type": "stream",
          "text": [
            "[0.7992670045789219, 0.9573507163543515, 0.9614369349381671, 0.9616930666297626, 0.9616922416399727, 0.9616922416399727, 0.9616922416399727, 0.9616922416399727, 0.9616922416399727, 0.9616922416399727, 0.9616922416399727, 0.9616922416399727, 0.9616922416399727, 0.9616922416399727, 0.9616922416399727, 0.9616922416399727, 0.9616922416399727, 0.9616922416399727, 0.9616922416399727, 0.9616922416399727, 0.9616922416399727, 0.9616922416399727, 0.9616922416399727, 0.9616922416399727, 0.9616922416399727, 0.9616922416399727, 0.9616922416399727, 0.9616922416399727, 0.9616922416399727, 0.9616922416399727, 0.9616922416399727, 0.9616922416399727, 0.9616922416399727, 0.9616922416399727, 0.9616922416399727, 0.9616922416399727, 0.9616922416399727, 0.9616922416399727, 0.9616922416399727, 0.9616922416399727, 0.9616922416399727, 0.9616922416399727, 0.9616922416399727, 0.9616922416399727, 0.9616922416399727, 0.9616922416399727, 0.9616922416399727, 0.9616922416399727, 0.9616922416399727, 0.9616922416399727, 0.9616922416399727, 0.9616922416399727, 0.9616922416399727, 0.9616922416399727, 0.9616922416399727, 0.9616922416399727, 0.9616922416399727, 0.9616922416399727, 0.9616922416399727, 0.9616922416399727, 0.9616922416399727, 0.9616922416399727, 0.9616922416399727, 0.9616922416399727, 0.9616922416399727, 0.9616922416399727, 0.9616922416399727, 0.9616922416399727, 0.9616922416399727, 0.9616922416399727, 0.9616922416399727, 0.9616922416399727, 0.9616922416399727, 0.9616922416399727, 0.9616922416399727, 0.9616922416399727, 0.9616922416399727, 0.9616922416399727, 0.9616922416399727, 0.9616922416399727, 0.9616922416399727, 0.9616922416399727, 0.9616922416399727, 0.9616922416399727, 0.9616922416399727, 0.9616922416399727, 0.9616922416399727, 0.9616922416399727, 0.9616922416399727, 0.9616922416399727, 0.9616922416399727, 0.9616922416399727, 0.9616922416399727, 0.9616922416399727, 0.9616922416399727, 0.9616922416399727, 0.9616922416399727, 0.9616922416399727, 0.9616922416399727, 0.9616922416399727]\n"
          ],
          "name": "stdout"
        },
        {
          "output_type": "display_data",
          "data": {
            "image/png": "[encoded data removed]",
            "text/plain": [
              "<Figure size 432x288 with 1 Axes>"
            ]
          },
          "metadata": {
            "tags": []
          }
        }
      ]
    }
  ]
}